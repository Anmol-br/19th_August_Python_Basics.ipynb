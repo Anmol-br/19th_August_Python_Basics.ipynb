{
 "cells": [
  {
   "cell_type": "code",
   "execution_count": 1,
   "id": "cb2467c2-8d85-4e07-a8f7-986f71619d19",
   "metadata": {},
   "outputs": [
    {
     "name": "stdout",
     "output_type": "stream",
     "text": [
      "TOPIC : Python Basics Variable\n"
     ]
    }
   ],
   "source": [
    "print(\"TOPIC : Python Basics Variable\")"
   ]
  },
  {
   "cell_type": "code",
   "execution_count": 2,
   "id": "779a8a0f-bf48-4c90-ae45-1236ea5455d2",
   "metadata": {},
   "outputs": [
    {
     "name": "stdout",
     "output_type": "stream",
     "text": [
      "1. Declare two variables , 'x' and 'y' , and assign them integer values. Swap the values of these variables without using any temporary variable.\n"
     ]
    }
   ],
   "source": [
    "print(\"1. Declare two variables , 'x' and 'y' , and assign them integer values. Swap the values of these variables without using any temporary variable.\")"
   ]
  },
  {
   "cell_type": "code",
   "execution_count": 3,
   "id": "4cd762cd-7f7b-4844-8546-72e819bec5a8",
   "metadata": {},
   "outputs": [
    {
     "name": "stdout",
     "output_type": "stream",
     "text": [
      "After swapping:\n",
      "x= 20\n",
      "y= 10\n"
     ]
    }
   ],
   "source": [
    "#Define variable x & y\n",
    "x = 10 \n",
    "y = 20\n",
    "#Swap the value without using temporary variable \n",
    "x,y = y,x\n",
    "print(\"After swapping:\")\n",
    "print(\"x=\", x)\n",
    "print(\"y=\", y)"
   ]
  },
  {
   "cell_type": "code",
   "execution_count": 4,
   "id": "dd1cbc8a-2786-4490-a6a7-9b4015f5ef8a",
   "metadata": {},
   "outputs": [
    {
     "name": "stdout",
     "output_type": "stream",
     "text": [
      "Create a program that calculates the area of a rectangle. Take the length and width as inputs from the user and store them in variables. calculate and display the area. \n"
     ]
    }
   ],
   "source": [
    "print(\"Create a program that calculates the area of a rectangle. Take the length and width as inputs from the user and store them in variables. calculate and display the area. \")"
   ]
  },
  {
   "cell_type": "code",
   "execution_count": 5,
   "id": "58a0ad92-ed8e-40e0-8141-6ed6faff4004",
   "metadata": {},
   "outputs": [
    {
     "name": "stdin",
     "output_type": "stream",
     "text": [
      "Enter the length of the rectangle:  12\n",
      "Enter the width of rectangle:  9\n"
     ]
    },
    {
     "name": "stdout",
     "output_type": "stream",
     "text": [
      "The area of the rectangle is: 108.0\n"
     ]
    }
   ],
   "source": [
    "# Get user input for length and width of rectangle\n",
    "\n",
    "length = float(input(\"Enter the length of the rectangle: \"))\n",
    "width = float(input(\"Enter the width of rectangle: \"))\n",
    "\n",
    "# Calculate the area\n",
    "area = length * width\n",
    "\n",
    "print(\"The area of the rectangle is:\", area)"
   ]
  },
  {
   "cell_type": "code",
   "execution_count": 1,
   "id": "39abdb56-f8c9-4fde-8893-fc02af44f1bc",
   "metadata": {},
   "outputs": [
    {
     "name": "stdout",
     "output_type": "stream",
     "text": [
      "3. Write a python program that converts temperatures from celsius to fahrenheit. Take the temperature in celsius as input , store it in a variable, convert it to fahrenheit, and display the result.\n"
     ]
    }
   ],
   "source": [
    "print(\"3. Write a python program that converts temperatures from celsius to fahrenheit. Take the temperature in celsius as input , store it in a variable, convert it to fahrenheit, and display the result.\")"
   ]
  },
  {
   "cell_type": "code",
   "execution_count": 7,
   "id": "3032cae9-73f2-4c40-b04e-1d187d3917a9",
   "metadata": {},
   "outputs": [
    {
     "name": "stdin",
     "output_type": "stream",
     "text": [
      "temperature in celcius 37.5\n"
     ]
    },
    {
     "name": "stdout",
     "output_type": "stream",
     "text": [
      "temperature in farenheit is: 99.5\n"
     ]
    }
   ],
   "source": [
    "#get input from user for temperature in celcius \n",
    "celsius=float(input(\"temperature in celcius\"))\n",
    "\n",
    "#converting celsius to farenheit\n",
    "farenheit=(celsius*1.8)+32\n",
    "print(\"temperature in farenheit is:\",farenheit)"
   ]
  },
  {
   "cell_type": "code",
   "execution_count": 2,
   "id": "1e3a4072-c899-4b64-b447-899610d8ad1f",
   "metadata": {},
   "outputs": [
    {
     "name": "stdout",
     "output_type": "stream",
     "text": [
      "TOPIC: String Based Questions\n"
     ]
    }
   ],
   "source": [
    "print(\"TOPIC: String Based Questions\")"
   ]
  },
  {
   "cell_type": "code",
   "execution_count": 4,
   "id": "526c29eb-0333-46ed-afe7-14e4298faacd",
   "metadata": {},
   "outputs": [
    {
     "name": "stdout",
     "output_type": "stream",
     "text": [
      "1. Write a python program that takes a string as input and prints the length of the string.\n"
     ]
    }
   ],
   "source": [
    "print(\"1. Write a python program that takes a string as input and prints the length of the string.\")"
   ]
  },
  {
   "cell_type": "code",
   "execution_count": 7,
   "id": "ed8454f3-dbd6-44ab-89d5-f123f7c534ed",
   "metadata": {},
   "outputs": [
    {
     "name": "stdin",
     "output_type": "stream",
     "text": [
      "string from user anmol mehta\n"
     ]
    },
    {
     "name": "stdout",
     "output_type": "stream",
     "text": [
      "the length of string is: 11\n"
     ]
    }
   ],
   "source": [
    "#Taking a string from user as input\n",
    "p=input(\"string from user\")\n",
    "#for finding length\n",
    "len(p)\n",
    "#printing the length of string \n",
    "print(\"the length of string is:\",len(p))"
   ]
  },
  {
   "cell_type": "code",
   "execution_count": 8,
   "id": "1327ff0a-f27b-445a-99e5-3baedf3354d6",
   "metadata": {},
   "outputs": [
    {
     "name": "stdout",
     "output_type": "stream",
     "text": [
      "2. Create a program that takes a sentence from the user and counts the number of vowels (a,e,i,o,u) in the string.\n"
     ]
    }
   ],
   "source": [
    "print(\"2. Create a program that takes a sentence from the user and counts the number of vowels (a,e,i,o,u) in the string.\")"
   ]
  },
  {
   "cell_type": "code",
   "execution_count": 12,
   "id": "4ce2db5e-da17-4b72-8772-f31e5e2dea6a",
   "metadata": {},
   "outputs": [
    {
     "name": "stdin",
     "output_type": "stream",
     "text": [
      "Enter a sentence: hello world \n"
     ]
    },
    {
     "name": "stdout",
     "output_type": "stream",
     "text": [
      "No. of vowels in the sentence: 3\n"
     ]
    }
   ],
   "source": [
    "# Get user input for a sentence\n",
    "sentence = input(\"Enter a sentence:\")\n",
    "# Creating a set of vowels\n",
    "vowels = \"aeiouAEIOU\"\n",
    "# Initializing count vowels to 0\n",
    "vowel_count = 0\n",
    "#  Iterate through each character in the sentence\n",
    "for char in sentence:\n",
    "    if char in vowels:\n",
    "        vowel_count += 1\n",
    " #Display the vowel count\n",
    "print(\"No. of vowels in the sentence:\", vowel_count)"
   ]
  },
  {
   "cell_type": "code",
   "execution_count": 13,
   "id": "7ee23876-3271-4428-9899-f3d9dea85d0f",
   "metadata": {},
   "outputs": [
    {
     "name": "stdout",
     "output_type": "stream",
     "text": [
      "3. Given a string, reverse the order of characters using string slicing and print the reversed string\n"
     ]
    }
   ],
   "source": [
    "print(\"3. Given a string, reverse the order of characters using string slicing and print the reversed string\")"
   ]
  },
  {
   "cell_type": "code",
   "execution_count": 14,
   "id": "2a0122b1-054c-42e6-888a-625e127bd374",
   "metadata": {},
   "outputs": [
    {
     "name": "stdout",
     "output_type": "stream",
     "text": [
      "The reverse of given slice is athemlomna\n"
     ]
    }
   ],
   "source": [
    "# give a string\n",
    "a = \"anmolmehta\"\n",
    "# using slicing for reversing order\n",
    "reverse=a[::-1]\n",
    "\n",
    "#print the reverse order\n",
    "print(\"The reverse of given slice is\",reverse)"
   ]
  },
  {
   "cell_type": "code",
   "execution_count": 5,
   "id": "9f3d664e-7814-44d3-a30b-7b6b6740789c",
   "metadata": {},
   "outputs": [
    {
     "name": "stdout",
     "output_type": "stream",
     "text": [
      "4.Write a program that takes a string as input and checks if it is a palindrome (reads the same forwards and backwards).\n"
     ]
    }
   ],
   "source": [
    "print(\"4.Write a program that takes a string as input and checks if it is a palindrome (reads the same forwards and backwards).\")"
   ]
  },
  {
   "cell_type": "code",
   "execution_count": 3,
   "id": "3514a705-6025-41af-9801-eee92e89430c",
   "metadata": {},
   "outputs": [
    {
     "name": "stdin",
     "output_type": "stream",
     "text": [
      "Enter a string: sos\n"
     ]
    },
    {
     "name": "stdout",
     "output_type": "stream",
     "text": [
      "The string is a palindrome.\n"
     ]
    }
   ],
   "source": [
    "# Get user input for a string\n",
    "string = input(\"Enter a string:\")\n",
    "\n",
    "# Remove spaces and convert to lowercase for case-insensitive comparison\n",
    "clean_string = string.replace(\"\",\"\").lower()\n",
    "\n",
    "# Check if the cleaned string is equal to its reverse\n",
    "if clean_string == clean_string[::-1]:\n",
    "    print(\"The string is a palindrome.\")\n",
    "else:\n",
    "        print(\"The string is not a palindrome\")\n",
    "        "
   ]
  },
  {
   "cell_type": "code",
   "execution_count": 6,
   "id": "e4df565e-b957-4827-9f10-de25d592a5f8",
   "metadata": {},
   "outputs": [
    {
     "name": "stdout",
     "output_type": "stream",
     "text": [
      "5. Create a program that takes a string as input and removes all the spaces from it. print the modified string without spaces.\n"
     ]
    }
   ],
   "source": [
    "print(\"5. Create a program that takes a string as input and removes all the spaces from it. print the modified string without spaces.\")"
   ]
  },
  {
   "cell_type": "code",
   "execution_count": 9,
   "id": "c7924ea4-87a4-4433-8bd6-d830bbf42e8a",
   "metadata": {},
   "outputs": [
    {
     "name": "stdin",
     "output_type": "stream",
     "text": [
      "Enter a string:  python basics assignment question\n"
     ]
    },
    {
     "name": "stdout",
     "output_type": "stream",
     "text": [
      "Modified string without spaces: pythonbasicsassignmentquestion\n"
     ]
    }
   ],
   "source": [
    "# Get input for a string from user \n",
    "string = input(\"Enter a string: \")\n",
    "\n",
    "# Remove spaces from the string \n",
    "string_without_spaces = string.replace(\" \",\"\")\n",
    "\n",
    "#print the modified string without spaces\n",
    "print(\"Modified string without spaces:\", string_without_spaces)"
   ]
  },
  {
   "cell_type": "code",
   "execution_count": null,
   "id": "f2a93d91-c93b-401d-b045-89fcec0250d7",
   "metadata": {},
   "outputs": [],
   "source": []
  }
 ],
 "metadata": {
  "kernelspec": {
   "display_name": "Python 3 (ipykernel)",
   "language": "python",
   "name": "python3"
  },
  "language_info": {
   "codemirror_mode": {
    "name": "ipython",
    "version": 3
   },
   "file_extension": ".py",
   "mimetype": "text/x-python",
   "name": "python",
   "nbconvert_exporter": "python",
   "pygments_lexer": "ipython3",
   "version": "3.10.8"
  }
 },
 "nbformat": 4,
 "nbformat_minor": 5
}
